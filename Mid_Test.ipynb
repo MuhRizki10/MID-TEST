{
  "nbformat": 4,
  "nbformat_minor": 0,
  "metadata": {
    "colab": {
      "provenance": []
    },
    "kernelspec": {
      "name": "python3",
      "display_name": "Python 3"
    },
    "language_info": {
      "name": "python"
    }
  },
  "cells": [
    {
      "cell_type": "code",
      "execution_count": 2,
      "metadata": {
        "colab": {
          "base_uri": "https://localhost:8080/"
        },
        "id": "UBaHLgfIk4kc",
        "outputId": "3e340164-df55-4396-f556-b01a9375cc9f"
      },
      "outputs": [
        {
          "output_type": "stream",
          "name": "stdout",
          "text": [
            "The third winner: Budi.\n",
            "The third winner: Andi, Budi, Charlie.\n",
            "The third winner: Budi, Charlie.\n"
          ]
        }
      ],
      "source": [
        "#TAKS 1\n",
        "def third_place(names, scores):\n",
        "    combined = list(zip(names, scores))\n",
        "    combined.sort(key=lambda x: x[1], reverse=True)\n",
        "    third_score = combined[2][1]\n",
        "    third_winners = [pair[0] for pair in combined if pair[1] == third_score]\n",
        "\n",
        "    if len(third_winners) == 1:\n",
        "        output = f'The third winner: {third_winners[0]}.'\n",
        "    else:\n",
        "        output = f'The third winner: {\", \".join(third_winners)}.'\n",
        "\n",
        "    return output\n",
        "\n",
        "names1 = [\"Andi\", \"Budi\", \"Charlie\", \"Dilan\", \"Echa\"]\n",
        "scores1 = [80, 90, 95, 100, 85]\n",
        "print(third_place(names1, scores1))\n",
        "\n",
        "names2 = [\"Andi\", \"Budi\", \"Charlie\", \"Dilan\", \"Echa\"]\n",
        "scores2 = [80, 80, 80, 100, 90]\n",
        "print(third_place(names2, scores2))\n",
        "\n",
        "names3 = [\"Andi\", \"Budi\", \"Charlie\", \"Dilan\", \"Echa\", \"Fanya\"]\n",
        "scores3 = [80, 90, 90, 100, 100, 80]\n",
        "print(third_place(names3, scores3))\n"
      ]
    },
    {
      "cell_type": "code",
      "source": [
        "#TAKS 2\n",
        "import math\n",
        "\n",
        "def distance(point1, point2):\n",
        "    x1, y1 = point1\n",
        "    x2, y2 = point2\n",
        "\n",
        "    squared_diff_x = (x2 - x1) ** 2\n",
        "    squared_diff_y = (y2 - y1) ** 2\n",
        "\n",
        "    sum_of_squared_diff = squared_diff_x + squared_diff_y\n",
        "\n",
        "    dist = math.sqrt(sum_of_squared_diff)\n",
        "\n",
        "    return dist\n",
        "\n",
        "point1 = [5, 5]\n",
        "point2 = [1, 2]\n",
        "print(f'The distance is {distance(point1, point2)}.')\n",
        "\n",
        "point3 = [0, -1]\n",
        "point4 = [-3, 2]\n",
        "print(f'The distance is {distance(point3, point4)}.')\n"
      ],
      "metadata": {
        "colab": {
          "base_uri": "https://localhost:8080/"
        },
        "id": "wGT3C2Ujk_mQ",
        "outputId": "3c06c36c-f462-4af3-9e4e-4b3dde915b6e"
      },
      "execution_count": 3,
      "outputs": [
        {
          "output_type": "stream",
          "name": "stdout",
          "text": [
            "The distance is 5.0.\n",
            "The distance is 4.242640687119285.\n"
          ]
        }
      ]
    }
  ]
}